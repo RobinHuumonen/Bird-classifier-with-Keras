{
  "nbformat": 4,
  "nbformat_minor": 0,
  "metadata": {
    "colab": {
      "name": "Bird-classifier.ipynb",
      "provenance": [],
      "collapsed_sections": [],
      "mount_file_id": "1fPAYDiJx6JfqDNBpRY8PevmByUTwJLRp",
      "authorship_tag": "ABX9TyNky0EGAkSn6IyWYC7Uzyzt",
      "include_colab_link": true
    },
    "kernelspec": {
      "name": "python3",
      "display_name": "Python 3"
    },
    "accelerator": "GPU"
  },
  "cells": [
    {
      "cell_type": "markdown",
      "metadata": {
        "id": "view-in-github",
        "colab_type": "text"
      },
      "source": [
        "<a href=\"https://colab.research.google.com/github/RobinHuumonen/Bird-classifier-with-Keras/blob/main/Bird_classifier.ipynb\" target=\"_parent\"><img src=\"https://colab.research.google.com/assets/colab-badge.svg\" alt=\"Open In Colab\"/></a>"
      ]
    },
    {
      "cell_type": "code",
      "metadata": {
        "id": "sQa1aAQaOo3g"
      },
      "source": [
        "import tensorflow\r\n",
        "from tensorflow import keras\r\n",
        "from tensorflow.keras.models import Sequential\r\n",
        "from tensorflow.keras.preprocessing.image import ImageDataGenerator\r\n",
        "from tensorflow.keras.layers import BatchNormalization\r\n",
        "from tensorflow.keras.layers import Conv2D, MaxPooling2D, Dense, Flatten\r\n",
        "from tensorflow.keras.callbacks import ModelCheckpoint, EarlyStopping, CSVLogger\r\n",
        "%matplotlib inline\r\n",
        "import matplotlib.pyplot as plotter\r\n",
        "import os"
      ],
      "execution_count": 1,
      "outputs": []
    },
    {
      "cell_type": "code",
      "metadata": {
        "id": "bpJ-zylOmFjX"
      },
      "source": [
        "pip install -q pyyaml h5py "
      ],
      "execution_count": 2,
      "outputs": []
    },
    {
      "cell_type": "markdown",
      "metadata": {
        "id": "r-NkER3icAHn"
      },
      "source": [
        ""
      ]
    },
    {
      "cell_type": "code",
      "metadata": {
        "id": "egpswxQzPhBp"
      },
      "source": [
        "rescaled_ImageDataGenerator = ImageDataGenerator(rescale=1./255) #rescale=1./255 scales RGB coefficients from 0–255 to 0–1"
      ],
      "execution_count": 3,
      "outputs": []
    },
    {
      "cell_type": "code",
      "metadata": {
        "id": "q76A4N5MP4zC"
      },
      "source": [
        "training_dir = '/content/drive/MyDrive/Colab Notebooks/250-bird-species-data/train'"
      ],
      "execution_count": 4,
      "outputs": []
    },
    {
      "cell_type": "code",
      "metadata": {
        "id": "KmCGwNcyQFKF"
      },
      "source": [
        "validation_dir = '/content/drive/MyDrive/Colab Notebooks/250-bird-species-data/valid'"
      ],
      "execution_count": 5,
      "outputs": []
    },
    {
      "cell_type": "code",
      "metadata": {
        "id": "pfzXAakLQL7L",
        "colab": {
          "base_uri": "https://localhost:8080/"
        },
        "outputId": "7169b1fa-43b9-43f2-da52-a3c5a8acf34d"
      },
      "source": [
        "#NB: flow_from directory's default batch_size is 32\r\n",
        "train_generator = rescaled_ImageDataGenerator.flow_from_directory(training_dir, target_size=(224,224))\r\n",
        "validation_generator = rescaled_ImageDataGenerator.flow_from_directory(validation_dir, target_size=(224,224))"
      ],
      "execution_count": 6,
      "outputs": [
        {
          "output_type": "stream",
          "text": [
            "Found 35215 images belonging to 250 classes.\n",
            "Found 1250 images belonging to 250 classes.\n"
          ],
          "name": "stdout"
        }
      ]
    },
    {
      "cell_type": "code",
      "metadata": {
        "colab": {
          "base_uri": "https://localhost:8080/"
        },
        "id": "G5Ztag60e6WN",
        "outputId": "85c7d2b8-5387-42f6-c460-ecb332d98751"
      },
      "source": [
        "classes_amount = 250\r\n",
        "pixel_height = pixel_width = 224\r\n",
        "color_channels = 3\r\n",
        "\r\n",
        "# VGG16 architechture implementation (src: https://towardsdatascience.com/step-by-step-vgg16-implementation-in-keras-for-beginners-a833c686ae6c)\r\n",
        "model = Sequential()\r\n",
        "model.add(Conv2D(input_shape=(pixel_height,pixel_width,color_channels),filters=64,kernel_size=(3,3),padding=\"same\", activation=\"relu\"))\r\n",
        "model.add(Conv2D(filters=64,kernel_size=(3,3),padding=\"same\", activation=\"relu\"))\r\n",
        "model.add(MaxPooling2D(pool_size=(2,2),strides=(2,2)))\r\n",
        "model.add(Conv2D(filters=128, kernel_size=(3,3), padding=\"same\", activation=\"relu\"))\r\n",
        "model.add(Conv2D(filters=128, kernel_size=(3,3), padding=\"same\", activation=\"relu\"))\r\n",
        "model.add(MaxPooling2D(pool_size=(2,2),strides=(2,2)))\r\n",
        "model.add(Conv2D(filters=256, kernel_size=(3,3), padding=\"same\", activation=\"relu\"))\r\n",
        "model.add(Conv2D(filters=256, kernel_size=(3,3), padding=\"same\", activation=\"relu\"))\r\n",
        "model.add(Conv2D(filters=256, kernel_size=(3,3), padding=\"same\", activation=\"relu\"))\r\n",
        "model.add(MaxPooling2D(pool_size=(2,2),strides=(2,2)))\r\n",
        "model.add(Conv2D(filters=512, kernel_size=(3,3), padding=\"same\", activation=\"relu\"))\r\n",
        "model.add(Conv2D(filters=512, kernel_size=(3,3), padding=\"same\", activation=\"relu\"))\r\n",
        "model.add(Conv2D(filters=512, kernel_size=(3,3), padding=\"same\", activation=\"relu\"))\r\n",
        "model.add(MaxPooling2D(pool_size=(2,2),strides=(2,2)))\r\n",
        "model.add(Conv2D(filters=512, kernel_size=(3,3), padding=\"same\", activation=\"relu\"))\r\n",
        "model.add(Conv2D(filters=512, kernel_size=(3,3), padding=\"same\", activation=\"relu\"))\r\n",
        "model.add(Conv2D(filters=512, kernel_size=(3,3), padding=\"same\", activation=\"relu\"))\r\n",
        "model.add(MaxPooling2D(pool_size=(2,2),strides=(2,2)))\r\n",
        "\r\n",
        "model.add(Flatten())\r\n",
        "model.add(Dense(units=4096,activation=\"relu\"))\r\n",
        "model.add(Dense(units=4096,activation=\"relu\"))\r\n",
        "model.add(Dense(units=classes_amount, activation=\"softmax\"))\r\n",
        "\r\n",
        "model.compile(optimizer = 'adam',loss = 'categorical_crossentropy', metrics = ['accuracy'])\r\n",
        "print(model.summary()) "
      ],
      "execution_count": 7,
      "outputs": [
        {
          "output_type": "stream",
          "text": [
            "Model: \"sequential\"\n",
            "_________________________________________________________________\n",
            "Layer (type)                 Output Shape              Param #   \n",
            "=================================================================\n",
            "conv2d (Conv2D)              (None, 224, 224, 64)      1792      \n",
            "_________________________________________________________________\n",
            "conv2d_1 (Conv2D)            (None, 224, 224, 64)      36928     \n",
            "_________________________________________________________________\n",
            "max_pooling2d (MaxPooling2D) (None, 112, 112, 64)      0         \n",
            "_________________________________________________________________\n",
            "conv2d_2 (Conv2D)            (None, 112, 112, 128)     73856     \n",
            "_________________________________________________________________\n",
            "conv2d_3 (Conv2D)            (None, 112, 112, 128)     147584    \n",
            "_________________________________________________________________\n",
            "max_pooling2d_1 (MaxPooling2 (None, 56, 56, 128)       0         \n",
            "_________________________________________________________________\n",
            "conv2d_4 (Conv2D)            (None, 56, 56, 256)       295168    \n",
            "_________________________________________________________________\n",
            "conv2d_5 (Conv2D)            (None, 56, 56, 256)       590080    \n",
            "_________________________________________________________________\n",
            "conv2d_6 (Conv2D)            (None, 56, 56, 256)       590080    \n",
            "_________________________________________________________________\n",
            "max_pooling2d_2 (MaxPooling2 (None, 28, 28, 256)       0         \n",
            "_________________________________________________________________\n",
            "conv2d_7 (Conv2D)            (None, 28, 28, 512)       1180160   \n",
            "_________________________________________________________________\n",
            "conv2d_8 (Conv2D)            (None, 28, 28, 512)       2359808   \n",
            "_________________________________________________________________\n",
            "conv2d_9 (Conv2D)            (None, 28, 28, 512)       2359808   \n",
            "_________________________________________________________________\n",
            "max_pooling2d_3 (MaxPooling2 (None, 14, 14, 512)       0         \n",
            "_________________________________________________________________\n",
            "conv2d_10 (Conv2D)           (None, 14, 14, 512)       2359808   \n",
            "_________________________________________________________________\n",
            "conv2d_11 (Conv2D)           (None, 14, 14, 512)       2359808   \n",
            "_________________________________________________________________\n",
            "conv2d_12 (Conv2D)           (None, 14, 14, 512)       2359808   \n",
            "_________________________________________________________________\n",
            "max_pooling2d_4 (MaxPooling2 (None, 7, 7, 512)         0         \n",
            "_________________________________________________________________\n",
            "flatten (Flatten)            (None, 25088)             0         \n",
            "_________________________________________________________________\n",
            "dense (Dense)                (None, 4096)              102764544 \n",
            "_________________________________________________________________\n",
            "dense_1 (Dense)              (None, 4096)              16781312  \n",
            "_________________________________________________________________\n",
            "dense_2 (Dense)              (None, 250)               1024250   \n",
            "=================================================================\n",
            "Total params: 135,284,794\n",
            "Trainable params: 135,284,794\n",
            "Non-trainable params: 0\n",
            "_________________________________________________________________\n",
            "None\n"
          ],
          "name": "stdout"
        }
      ]
    },
    {
      "cell_type": "code",
      "metadata": {
        "id": "bovqM0lLfrLK"
      },
      "source": [
        "#Save model at some interval during the trainig process\r\n",
        "filepath=\"/content/drive/MyDrive/Colab Notebooks/saved_models/Bird-classifier-weights-improvement-{epoch:02d}-{val_acc:.2f}.hdf5\"\r\n",
        "checkpoint = ModelCheckpoint(filepath, monitor='val_acc', verbose=1, save_best_only=True, mode='max')\r\n",
        "\r\n",
        "#Use early stopping callback to avoid over fitting\r\n",
        "auto_stop_training = EarlyStopping(monitor='val_loss', patience=5, verbose=1, mode='min', restore_best_weights = True)\r\n",
        "\r\n",
        "#CSVLogger logs epoch, acc, loss, val_acc, val_loss\r\n",
        "logs = CSVLogger('logs.csv', separator=',', append=False)"
      ],
      "execution_count": 8,
      "outputs": []
    },
    {
      "cell_type": "code",
      "metadata": {
        "colab": {
          "base_uri": "https://localhost:8080/"
        },
        "id": "OPdkj9JrfxrD",
        "outputId": "f0ef949d-9f8b-47c9-c312-6feabac70013"
      },
      "source": [
        "callbacks = [checkpoint, auto_stop_training, logs]\r\n",
        "batch_size = 32\r\n",
        "training_samples = 35215\r\n",
        "validation_samples = 1250\r\n",
        "model_name = 'Bird-classifier-model.h5'\r\n",
        "\r\n",
        "history = model.fit(\r\n",
        "        train_generator,\r\n",
        "        steps_per_epoch = training_samples // batch_size,\r\n",
        "        validation_data = validation_generator,\r\n",
        "        validation_steps = validation_samples // batch_size,\r\n",
        "        epochs = 100,\r\n",
        "        verbose=1,\r\n",
        "        callbacks=callbacks\r\n",
        ")\r\n",
        "\r\n",
        "model.save(model_name)"
      ],
      "execution_count": null,
      "outputs": [
        {
          "output_type": "stream",
          "text": [
            "Epoch 1/100\n",
            " 652/1100 [================>.............] - ETA: 3:08 - loss: 5.5434 - accuracy: 0.0066"
          ],
          "name": "stdout"
        }
      ]
    },
    {
      "cell_type": "code",
      "metadata": {
        "id": "p9wFZPhef2up"
      },
      "source": [
        "#Evaluating the model\r\n",
        "train_loss, train_acc = model.evaluate_generator(train_generator, steps=16)\r\n",
        "validation_loss, test_acc = model.evaluate_generator(validation_generator, steps=16)\r\n",
        "print('Train: %.3f, Test: %.3f' % (train_acc, test_acc))"
      ],
      "execution_count": null,
      "outputs": []
    },
    {
      "cell_type": "code",
      "metadata": {
        "id": "NXRc33lwf48j"
      },
      "source": [
        "#Plot the training and validation accuracy and loss at each epoch\r\n",
        "loss = history.history['loss']\r\n",
        "val_loss = history.history['val_loss']\r\n",
        "epochs = range(1, len(loss) + 1)\r\n",
        "plotter.plot(epochs, loss, 'y', label='Training loss')\r\n",
        "plotter.plot(epochs, val_loss, 'r', label='Validation loss')\r\n",
        "plotter.title('Training and validation loss')\r\n",
        "plotter.xlabel('Epochs')\r\n",
        "plotter.ylabel('Loss')\r\n",
        "plotter.legend()\r\n",
        "plotter.show()\r\n",
        "\r\n",
        "\r\n",
        "acc = history.history['acc']\r\n",
        "val_acc = history.history['val_acc']\r\n",
        "plotter.plot(epochs, acc, 'y', label='Training acc')\r\n",
        "plotter.plot(epochs, val_acc, 'r', label='Validation acc')\r\n",
        "plotter.title('Training and validation accuracy')\r\n",
        "plotter.xlabel('Epochs')\r\n",
        "plotter.ylabel('Accuracy')\r\n",
        "plotter.legend()\r\n",
        "plotter.show()"
      ],
      "execution_count": null,
      "outputs": []
    },
    {
      "cell_type": "code",
      "metadata": {
        "id": "ZFX4aYcPf-Ri"
      },
      "source": [
        "#Continue training previously saved model\r\n",
        "# =============================================================================\r\n",
        "# from keras.models import load_model\r\n",
        "# new_model = load_model(model_name)\r\n",
        "# results = new_model.evaluate_generator(validation_generator, steps=16)\r\n",
        "# print(\" validation loss and accuracy are\", results)\r\n",
        "# new_model.fit_generator(\r\n",
        "#         train_generator,\r\n",
        "#         steps_per_epoch=training_samples // batch_size,\r\n",
        "#         epochs=5,\r\n",
        "#         validation_data=validation_generator,\r\n",
        "#         validation_steps=validation_samples // batch_size,\r\n",
        "#         callbacks=callbacks\r\n",
        "# )\r\n",
        "# model.save('Bird-classifier-model-updated.h5')\r\n",
        "# =============================================================================\r\n",
        "\r\n"
      ],
      "execution_count": null,
      "outputs": []
    }
  ]
}